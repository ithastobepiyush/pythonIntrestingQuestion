{
  "nbformat": 4,
  "nbformat_minor": 0,
  "metadata": {
    "colab": {
      "provenance": [],
      "authorship_tag": "ABX9TyO1lXncah731IiwnqcoWMxq",
      "include_colab_link": true
    },
    "kernelspec": {
      "name": "python3",
      "display_name": "Python 3"
    },
    "language_info": {
      "name": "python"
    }
  },
  "cells": [
    {
      "cell_type": "markdown",
      "metadata": {
        "id": "view-in-github",
        "colab_type": "text"
      },
      "source": [
        "<a href=\"https://colab.research.google.com/github/Tanu-N-Prabhu/Python/blob/master/Open_Closed_Principle_in_Python.ipynb\" target=\"_parent\"><img src=\"https://colab.research.google.com/assets/colab-badge.svg\" alt=\"Open In Colab\"/></a>"
      ]
    },
    {
      "cell_type": "markdown",
      "source": [
        "# Write Maintainable ML Code with the Open-Closed Principle in Python\n",
        "\n",
        "## Extend your machine learning workflows without rewriting a single line.\n",
        "\n",
        "| ![space-1.jpg](https://github.com/Tanu-N-Prabhu/Python/blob/master/Img/christina-wocintechchat-com-SqmaKDvcIso-unsplash.jpg?raw=true) |\n",
        "|:--:|\n",
        "|Photo by <a href=\"https://unsplash.com/@wocintechchat?utm_content=creditCopyText&utm_medium=referral&utm_source=unsplash\">Christina @ wocintechchat.com</a> on <a href=\"https://unsplash.com/photos/shallow-focus-photo-of-python-book-SqmaKDvcIso?utm_content=creditCopyText&utm_medium=referral&utm_source=unsplash\">Unsplash</a>|\n",
        "\n",
        "\n",
        "### Introduction\n",
        "In fast-moving AI teams, model iterations and data changes are inevitable. But if you constantly modify the same files, bugs creep in and your pipeline becomes fragile. That's where the Open-Closed Principle saves the day, a fundamental idea in software design that helps build robust, extendable machine learning systems.\n",
        "\n",
        "---\n",
        "\n",
        "### Design Principle: Open-Closed Principle (OCP)\n",
        "One of the SOLID principles, it states:\n",
        "\n",
        "> *Software entities (classes, modules, functions) should be open for extension, but closed for modification.*\n",
        "\n",
        "This means you should be able to **add new behavior** without altering existing tested code.\n",
        "\n",
        "---\n",
        "\n",
        "### Problem\n",
        "Imagine your ML pipeline supports only one model, say Logistic Regression. What if tomorrow you need to try Random Forest, XGBoost, or even a Neural Network? If your logic is hardcoded, every new change risks breaking what already works.\n",
        "\n",
        "---\n",
        "\n",
        "### Code Implementation (OCP for ML Models)\n",
        "\n"
      ],
      "metadata": {
        "id": "vl-nBxmAcn4R"
      }
    },
    {
      "cell_type": "code",
      "source": [
        "# base_model.py\n",
        "from abc import ABC, abstractmethod\n",
        "\n",
        "class BaseModel(ABC):\n",
        "    @abstractmethod\n",
        "    def train(self, X, y):\n",
        "        pass\n",
        "\n",
        "    @abstractmethod\n",
        "    def predict(self, X):\n",
        "        pass"
      ],
      "metadata": {
        "id": "ZniuBg63dPgf"
      },
      "execution_count": null,
      "outputs": []
    },
    {
      "cell_type": "code",
      "source": [
        "# logistic_model.py\n",
        "from sklearn.linear_model import LogisticRegression\n",
        "from base_model import BaseModel\n",
        "\n",
        "class LogisticModel(BaseModel):\n",
        "    def __init__(self):\n",
        "        self.model = LogisticRegression()\n",
        "\n",
        "    def train(self, X, y):\n",
        "        self.model.fit(X, y)\n",
        "\n",
        "    def predict(self, X):\n",
        "        return self.model.predict(X)"
      ],
      "metadata": {
        "id": "ufZ7NgS3dSb-"
      },
      "execution_count": null,
      "outputs": []
    },
    {
      "cell_type": "code",
      "source": [
        "# random_forest_model.py\n",
        "from sklearn.ensemble import RandomForestClassifier\n",
        "from base_model import BaseModel\n",
        "\n",
        "class RandomForestModel(BaseModel):\n",
        "    def __init__(self):\n",
        "        self.model = RandomForestClassifier()\n",
        "\n",
        "    def train(self, X, y):\n",
        "        self.model.fit(X, y)\n",
        "\n",
        "    def predict(self, X):\n",
        "        return self.model.predict(X)"
      ],
      "metadata": {
        "id": "2ISRHrYVdUFE"
      },
      "execution_count": null,
      "outputs": []
    },
    {
      "cell_type": "code",
      "source": [
        "# pipeline.py\n",
        "from sklearn.datasets import load_iris\n",
        "from random_forest_model import RandomForestModel\n",
        "\n",
        "def run_pipeline(model):\n",
        "    data = load_iris()\n",
        "    X, y = data.data, data.target\n",
        "    model.train(X, y)\n",
        "    preds = model.predict(X)\n",
        "    print(\"First 5 Predictions:\", preds[:5])\n",
        "\n",
        "if __name__ == \"__main__\":\n",
        "    model = RandomForestModel()\n",
        "    run_pipeline(model)"
      ],
      "metadata": {
        "id": "8jqNd1FPdVmf"
      },
      "execution_count": null,
      "outputs": []
    },
    {
      "cell_type": "markdown",
      "source": [
        "### Output\n",
        "\n",
        "First 5 Predictions: [0 0 0 0 0]\n",
        "\n",
        "---\n",
        "\n",
        "### Code Explanation\n",
        "\n",
        "* `BaseModel`: Abstract base class for all models.\n",
        "\n",
        "* `LogisticModel, RandomForestModel`: Extend `BaseModel` without modifying it.\n",
        "\n",
        "* `pipeline.py`: Can accept any future model that implements `BaseModel`.\n",
        "\n",
        "* No need to touch old code to add new models, just create a new class.\n",
        "\n",
        "\n",
        "---\n",
        "\n",
        "### UML Class Diagram\n",
        "\n",
        "| ![space-1.jpg](https://github.com/Tanu-N-Prabhu/Python/blob/master/Img/umlopenclose.png?raw=true) |\n",
        "|:--:|\n",
        "|Designed by Author|\n",
        "\n",
        "#### UML Class Diagram Explanation: Open-Closed Principle\n",
        "\n",
        "1. `BaseModel` (Abstract Class / Interface)\n",
        "    * Defines a generic interface for all ML models.\n",
        "    * Declares two abstract methods: `train(X, y)` and `predict(X)`.\n",
        "    * This class does not contain implementation, only a contract.\n",
        "    * Closed for modification: You don’t need to edit this when adding new models.\n",
        "    * Open for extension: You can extend this to implement new model classes.\n",
        "\n",
        "2. `LogisticModel` (Concrete Class)\n",
        "    * Inherits from `BaseModel`.\n",
        "    * Implements `train()` and `predict()` using `LogisticRegression` from Scikit-learn.\n",
        "    * Follows the contract defined by `BaseModel`.\n",
        "\n",
        "3. `RandomForestModel` (Concrete Class)\n",
        "    * Also inherits from `BaseModel`.\n",
        "    * Uses `RandomForestClassifier` from Scikit-learn.\n",
        "    * Another extension that does not require modifying any base logic.\n",
        "\n",
        "4. `Pipeline` (Client Class / Runner)\n",
        "    * This is the high-level module that uses `BaseModel`.\n",
        "    * It depends only on the abstraction (`BaseModel`), not on any specific model.\n",
        "    * Takes any object that follows `BaseModel` and runs the ML pipeline.\n",
        "    * Fully decoupled: You can pass `LogisticModel`, `RandomForestModel`, or future models without changing `Pipeline`.\n",
        "\n",
        "#### How It Reflects the Open-Closed Principle\n",
        "* You can add new models (extensions) like `SVMModel`, `XGBoostModel`, etc.\n",
        "\n",
        "* You never need to change existing, stable code in `BaseModel` or `Pipeline`.\n",
        "\n",
        "* This minimizes the chance of breaking existing functionality.\n",
        "\n",
        "#### Real-World Value\n",
        "* Supports safe experimentation in research.\n",
        "\n",
        "* Enables clean architecture in production ML systems.\n",
        "\n",
        "* Great for unit testing, as each model can be tested in isolation.\n",
        "\n",
        "* Makes team collaboration easier; contributors add models independently.\n",
        "\n",
        "---\n",
        "\n",
        "### Why it’s so important\n",
        "\n",
        "* Enhances modularity: Add new models or techniques without touching legacy code.\n",
        "\n",
        "* Enables scalability: More contributors can work in parallel on new models.\n",
        "\n",
        "* Increases reliability: Tested modules stay untouched, reducing risk of bugs.\n",
        "\n",
        "* Improves team collaboration: Clear contracts and plug-and-play components.\n",
        "\n",
        "---\n",
        "\n",
        "### Applications\n",
        "* Experimentation in AutoML frameworks.\n",
        "\n",
        "* Deployment pipelines that support model switching.\n",
        "\n",
        "* MLOps workflows needing multiple backend models.\n",
        "\n",
        "* Plugins for training logic in custom AI platforms.\n",
        "\n",
        "---\n",
        "\n",
        "### Conclusion\n",
        "The Open-Closed Principle is a game-changer for ML systems. It keeps your core logic untouched while allowing infinite growth through extensions. Adopt these patterns early, and your ML projects will scale with confidence. Thanks for reading my article, let me know if you have any suggestions or similar implementations via the comment section. Until then, see you next time. Happy coding!\n",
        "\n",
        "---\n",
        "\n",
        "### Before you go\n",
        "* Be sure to Like and Connect Me\n",
        "* Follow Me : [Medium](https://medium.com/@tanunprabhu95) | [GitHub](https://github.com/Tanu-N-Prabhu) | [LinkedIn](https://ca.linkedin.com/in/tanu-nanda-prabhu-a15a091b5) | [Python Hub](https://github.com/Tanu-N-Prabhu/Python)\n",
        "* [Check out my latest articles on Programming](https://medium.com/@tanunprabhu95)\n",
        "* Check out my [GitHub](https://github.com/Tanu-N-Prabhu) for code and [Medium](https://medium.com/@tanunprabhu95) for deep dives!\n"
      ],
      "metadata": {
        "id": "FAdGZVAGdXOz"
      }
    }
  ]
}