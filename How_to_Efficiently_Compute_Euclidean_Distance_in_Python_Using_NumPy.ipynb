{
  "nbformat": 4,
  "nbformat_minor": 0,
  "metadata": {
    "colab": {
      "provenance": [],
      "authorship_tag": "ABX9TyNu/nXCSJtRoaMmdp8Ef5T7",
      "include_colab_link": true
    },
    "kernelspec": {
      "name": "python3",
      "display_name": "Python 3"
    },
    "language_info": {
      "name": "python"
    }
  },
  "cells": [
    {
      "cell_type": "markdown",
      "metadata": {
        "id": "view-in-github",
        "colab_type": "text"
      },
      "source": [
        "<a href=\"https://colab.research.google.com/github/Tanu-N-Prabhu/Python/blob/master/How_to_Efficiently_Compute_Euclidean_Distance_in_Python_Using_NumPy.ipynb\" target=\"_parent\"><img src=\"https://colab.research.google.com/assets/colab-badge.svg\" alt=\"Open In Colab\"/></a>"
      ]
    },
    {
      "cell_type": "markdown",
      "source": [
        "# How to Efficiently Compute Euclidean Distance in Python Using NumPy (No Loops Needed)\n",
        "\n",
        "## A faster, cleaner, production-ready method for distance calculations in ML workflows\n",
        "\n",
        "| ![space-1.jpg](https://github.com/Tanu-N-Prabhu/Python/blob/master/Img/james-harrison-vpOeXr5wmR4-unsplash.jpg?raw=true) |\n",
        "|:--:|\n",
        "| Photo by James Harrison on Unsplash|\n",
        "\n",
        "### Introduction\n",
        "When working with high-dimensional datasets, calculating distances between points is a common task in many machine learning applications. However, relying on traditional Python loops can be painfully slow, especially with large datasets. In this post, you'll learn how to replace loops with vectorized operations using NumPy; the industry-standard approach for high-performance numerical computing in Python.\n",
        "\n",
        "---\n",
        "\n",
        "### Problem\n",
        "Suppose you have a dataset of thousands of points, and you need to calculate the Euclidean distance from each point to a fixed query vector. A for-loop might work for small datasets, but for real-world ML tasks, it's simply too slow.\n",
        "\n",
        "---\n",
        "\n",
        "### Code Implementation\n",
        "\n",
        "\n",
        "\n",
        "\n",
        "\n",
        "\n",
        "\n",
        "\n"
      ],
      "metadata": {
        "id": "bo2FG0K7tRAn"
      }
    },
    {
      "cell_type": "code",
      "source": [
        "import numpy as np\n",
        "\n",
        "# Generate sample data: 10,000 points with 3 features\n",
        "data = np.random.rand(10000, 3)\n",
        "\n",
        "# Define a query vector\n",
        "query = np.array([0.5, 0.5, 0.5])\n",
        "\n",
        "# Vectorized Euclidean distance computation\n",
        "distances = np.linalg.norm(data - query, axis=1)\n",
        "\n",
        "# Get the indices of the 5 closest points\n",
        "top_indices = np.argsort(distances)[:5]\n",
        "print(\"Closest 5 points:\\n\", data[top_indices])"
      ],
      "metadata": {
        "colab": {
          "base_uri": "https://localhost:8080/"
        },
        "id": "YUdKVEAXvlx8",
        "outputId": "9443e38e-d4b2-4a3c-861b-847c31651e83"
      },
      "execution_count": 1,
      "outputs": [
        {
          "output_type": "stream",
          "name": "stdout",
          "text": [
            "Closest 5 points:\n",
            " [[0.49876677 0.48344345 0.49651103]\n",
            " [0.5117045  0.47720221 0.49312307]\n",
            " [0.48753621 0.46997124 0.52821116]\n",
            " [0.46658145 0.5168309  0.46931167]\n",
            " [0.50022365 0.54906596 0.50488196]]\n"
          ]
        }
      ]
    },
    {
      "cell_type": "markdown",
      "source": [
        "### Code Explanation\n",
        "\n",
        "* Uses `np.random.rand()` to generate synthetic 3D data.\n",
        "\n",
        "* The query vector represents the point to which distances are calculated.\n",
        "\n",
        "* `np.linalg.norm()` computes vectorized Euclidean distances.\n",
        "\n",
        "* `np.argsort()` returns indices of the 5 smallest distances.\n",
        "\n",
        "* Entire calculation is done without any Python `for` loops.\n",
        "\n",
        "---\n",
        "\n",
        "### Why it’s so important\n",
        "\n",
        "* Vectorization using NumPy is 10x–100x faster than Python loops.\n",
        "\n",
        "* Cleaner, more maintainable code for production ML systems.\n",
        "\n",
        "* Reduces runtime, memory usage, and improves model deployment speed.\n",
        "\n",
        "---\n",
        "\n",
        "### Applications\n",
        "\n",
        "* K-Nearest Neighbors (KNN) and clustering algorithms.\n",
        "\n",
        "* Real-time recommendation engines.\n",
        "\n",
        "* Feature similarity and anomaly detection.\n",
        "\n",
        "* Any task involving proximity or distance metrics in ML.\n",
        "\n",
        "---\n",
        "\n",
        "### Conclusion\n",
        "Replacing loops with NumPy vectorization is one of the simplest yet most powerful ways to accelerate your machine learning workflows. This approach is production-ready, scalable, and widely adopted across the data science and AI industry. Mastering this technique will significantly improve your ability to write efficient, clean, and high-performing Python code. Thanks for reading my article, let me know if you have any suggestions or similar implementations via the comment section. Until then, see you next time. Happy coding!\n",
        "\n",
        "---\n",
        "\n",
        "### Before you go\n",
        "* Be sure to Like and Connect Me\n",
        "* Follow Me : [Medium](https://medium.com/@tanunprabhu95) | [GitHub](https://github.com/Tanu-N-Prabhu) | [LinkedIn](https://ca.linkedin.com/in/tanu-nanda-prabhu-a15a091b5) | [Python Hub](https://github.com/Tanu-N-Prabhu/Python)\n",
        "* [Check out my latest articles on Programming](https://medium.com/@tanunprabhu95)\n",
        "* Check out my [GitHub](https://github.com/Tanu-N-Prabhu) for code and [Medium](https://medium.com/@tanunprabhu95) for deep dives!\n"
      ],
      "metadata": {
        "id": "qfuKFW_EwKv2"
      }
    }
  ]
}