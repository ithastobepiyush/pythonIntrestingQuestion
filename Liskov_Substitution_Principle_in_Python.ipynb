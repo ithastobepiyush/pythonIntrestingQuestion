{
  "nbformat": 4,
  "nbformat_minor": 0,
  "metadata": {
    "colab": {
      "provenance": [],
      "authorship_tag": "ABX9TyNwpouIfMuJ6eDTWoeoGuIw",
      "include_colab_link": true
    },
    "kernelspec": {
      "name": "python3",
      "display_name": "Python 3"
    },
    "language_info": {
      "name": "python"
    }
  },
  "cells": [
    {
      "cell_type": "markdown",
      "metadata": {
        "id": "view-in-github",
        "colab_type": "text"
      },
      "source": [
        "<a href=\"https://colab.research.google.com/github/Tanu-N-Prabhu/Python/blob/master/Liskov_Substitution_Principle_in_Python.ipynb\" target=\"_parent\"><img src=\"https://colab.research.google.com/assets/colab-badge.svg\" alt=\"Open In Colab\"/></a>"
      ]
    },
    {
      "cell_type": "markdown",
      "source": [
        "# Prevent Code Breakage with the Liskov Substitution Principle in Python ML\n",
        "\n",
        "## Build models that can be swapped without breaking your pipeline.\n",
        "\n",
        "| ![space-1.jpg](https://github.com/Tanu-N-Prabhu/Python/blob/master/Img/christina-wocintechchat-com-SqmaKDvcIso-unsplash.jpg?raw=true) |\n",
        "|:--:|\n",
        "|Photo by <a href=\"https://unsplash.com/@wocintechchat?utm_content=creditCopyText&utm_medium=referral&utm_source=unsplash\">Christina @ wocintechchat.com</a> on <a href=\"https://unsplash.com/photos/shallow-focus-photo-of-python-book-SqmaKDvcIso?utm_content=creditCopyText&utm_medium=referral&utm_source=unsplash\">Unsplash</a>|\n",
        "\n",
        "\n",
        "### Introduction\n",
        "Imagine spending weeks tuning your AI pipeline, only for everything to break when you try a new model class. It’s frustrating, time-consuming, and entirely preventable. Enter the Liskov Substitution Principle (LSP), a software design principle that ensures your new components fit like puzzle pieces into existing systems.\n",
        "\n",
        "---\n",
        "\n",
        "### Design Principle: Liskov Substitution Principle (LSP)\n",
        "One of the SOLID principles, the Liskov Substitution Principle says:\n",
        "\n",
        "> ***Objects of a superclass should be replaceable with objects of its subclasses without altering the correctness of the program.***\n",
        "\n",
        "In simple terms: If you write code to handle a general type (like a `BaseModel`), you should be able to use any derived model (like `SVMModel` or `XGBoostModel`) without changing how the rest of the system behaves.\n",
        "\n",
        "---\n",
        "\n",
        "### Problem\n",
        "You’ve defined a base model interface and extended it with multiple ML models. But one of the derived models behaves differently (e.g., it changes method signatures or introduces unexpected side effects), and now your pipeline is broken. That’s a violation of LSP.\n",
        "\n",
        "---\n",
        "\n",
        "\n",
        "### Code Implementation (LSP in ML Pipelines)\n",
        "\n",
        "\n",
        "\n",
        "\n"
      ],
      "metadata": {
        "id": "RnIyzwG3vnKE"
      }
    },
    {
      "cell_type": "code",
      "source": [
        "# base_model.py\n",
        "from abc import ABC, abstractmethod\n",
        "\n",
        "class BaseModel(ABC):\n",
        "    @abstractmethod\n",
        "    def train(self, X, y):\n",
        "        pass\n",
        "\n",
        "    @abstractmethod\n",
        "    def predict(self, X):\n",
        "        pass"
      ],
      "metadata": {
        "id": "e8vEDp_QwHgM"
      },
      "execution_count": null,
      "outputs": []
    },
    {
      "cell_type": "code",
      "source": [
        "# svm_model.py\n",
        "from sklearn.svm import SVC\n",
        "from base_model import BaseModel\n",
        "\n",
        "class SVMModel(BaseModel):\n",
        "    def __init__(self):\n",
        "        self.model = SVC()\n",
        "\n",
        "    def train(self, X, y):\n",
        "        self.model.fit(X, y)\n",
        "\n",
        "    def predict(self, X):\n",
        "        return self.model.predict(X)"
      ],
      "metadata": {
        "id": "5m82iDD6wTRa"
      },
      "execution_count": null,
      "outputs": []
    },
    {
      "cell_type": "code",
      "source": [
        "# incorrect_model.py (Violates LSP)\n",
        "from sklearn.svm import SVC\n",
        "from base_model import BaseModel\n",
        "\n",
        "class BrokenModel(BaseModel):\n",
        "    def __init__(self):\n",
        "        self.model = SVC()\n",
        "\n",
        "    def train(self, X, y, z=None):  # Modified method signature\n",
        "        self.model.fit(X, y)  # Ignores `z`, still problematic\n",
        "\n",
        "    def predict(self, X):\n",
        "        return self.model.predict(X)"
      ],
      "metadata": {
        "id": "oLiOK4HlwVDD"
      },
      "execution_count": null,
      "outputs": []
    },
    {
      "cell_type": "code",
      "source": [
        "# pipeline.py\n",
        "from sklearn.datasets import load_iris\n",
        "from svm_model import SVMModel\n",
        "# from incorrect_model import BrokenModel  # Would cause unexpected behavior\n",
        "\n",
        "def run_pipeline(model):\n",
        "    data = load_iris()\n",
        "    X, y = data.data, data.target\n",
        "    model.train(X, y)\n",
        "    preds = model.predict(X)\n",
        "    print(\"First 5 Predictions:\", preds[:5])\n",
        "\n",
        "if __name__ == \"__main__\":\n",
        "    model = SVMModel()  # Replace with BrokenModel() to see LSP violation\n",
        "    run_pipeline(model)"
      ],
      "metadata": {
        "id": "TDgYCDvnwW-4"
      },
      "execution_count": null,
      "outputs": []
    },
    {
      "cell_type": "markdown",
      "source": [
        "### Output\n",
        "\n",
        "**First 5 Predictions: [0 0 0 0 0]**\n",
        "\n",
        "---\n",
        "\n",
        "### Code Explanation (Bullet Points)\n",
        "* `BaseModel`: Defines an abstract contract for ML models.\n",
        "\n",
        "* `SVMModel`: Properly implements the expected `train(X, y)` and `predict(X)`.\n",
        "\n",
        "* `BrokenModel`: Changes the `train` method signature, breaking compatibility.\n",
        "\n",
        "* `run_pipeline`: Works with any class that truly honors the `BaseModel` contract.\n",
        "\n",
        "---\n",
        "\n",
        "### UML Class Diagram\n",
        "\n",
        "| ![space-1.jpg](https://github.com/Tanu-N-Prabhu/Python/blob/master/Img/uml_lsp.png?raw=true) |\n",
        "|:--:|\n",
        "|Designed by Author|\n",
        "\n",
        "\n",
        "####  UML Class Diagram Explanation – Liskov Substitution Principle\n",
        "\n",
        "1. `BaseModel` (Abstract Class / Interface)\n",
        "    * Acts as the contract for all ML models.\n",
        "    * Declares two abstract methods:\n",
        "        * `train(X, y)`\n",
        "        * `predict(X)`\n",
        "    * Any subclass must implement these methods with the same signature and behavior.\n",
        "    * Purpose: To ensure all models are substitutable within the same pipeline.\n",
        "\n",
        "2. `SVMModel`(Concrete Class)\n",
        "    * Implements `BaseModel`.\n",
        "    * Defines `train` and predict using `sklearn.svm.SVC`.\n",
        "    * Fully complies with the `BaseModel` interface.\n",
        "    * LSP is respected: This model can replace any other subclass of `BaseModel` without issues.\n",
        "\n",
        "3. `RandomForestModel` (Concrete Class)\n",
        "    * Another subclass of `BaseModel`.\n",
        "    * Uses `sklearn.ensemble.RandomForestClassifier`.\n",
        "    * Also properly implements `train` and `predict` with the same signatures.\n",
        "    * LSP is respected.\n",
        "\n",
        "4. `BrokenModel` (Incorrect Implementation)\n",
        "    * Also inherits from `BaseModel`.\n",
        "    * Violation of LSP: Changes the `train` method signature (e.g., adds an extra parameter or returns unexpected outputs).\n",
        "    * This breaks compatibility with code expecting the standard `train(X, y)` method.\n",
        "\n",
        "5. `Pipeline` (Client)\n",
        "    * Operates on objects of type `BaseModel`.\n",
        "    * Calls `train` and `predict` without knowing which subclass it's using.\n",
        "    * Expects consistency across all model implementations.\n",
        "    * If any subclass violates LSP (like `BrokenModel`), this class will break or behave unpredictably.\n",
        "\n",
        "####  Why This Diagram Matters\n",
        "* Visualizes how polymorphism works safely under LSP.\n",
        "\n",
        "* Highlights the risk of subclassing incorrectly.\n",
        "\n",
        "* Encourages use of interfaces and abstraction to ensure scalability and maintainability.\n",
        "\n",
        "---\n",
        "\n",
        "### Why it’s so important\n",
        "* Ensures that interchangeable models don’t break your code.\n",
        "\n",
        "* Supports polymorphism and clean architecture in data science.\n",
        "\n",
        "* Avoids runtime bugs due to method mismatches or hidden side effects.\n",
        "\n",
        "* Encourages interface-driven development.\n",
        "\n",
        "---\n",
        "\n",
        "### Applications\n",
        "* AutoML systems with multiple model strategies.\n",
        "\n",
        "* Real-time inference engines where models are hot-swapped.\n",
        "\n",
        "* Test environments that simulate multiple model behaviors.\n",
        "\n",
        "* Extensible pipelines for research and production.\n",
        "\n",
        "---\n",
        "\n",
        "### Conclusion\n",
        "The Liskov Substitution Principle is essential for building AI systems that are reliable, extensible, and bug-resistant. If your models inherit from a base class, make sure they behave exactly as expected. Otherwise, the elegance of inheritance becomes a trap. Adopt these patterns early, and your ML projects will scale with confidence. Thanks for reading my article, let me know if you have any suggestions or similar implementations via the comment section. Until then, see you next time. Happy coding!\n",
        "\n",
        "---\n",
        "\n",
        "### Before you go\n",
        "* Be sure to Like and Connect Me\n",
        "* Follow Me : [Medium](https://medium.com/@tanunprabhu95) | [GitHub](https://github.com/Tanu-N-Prabhu) | [LinkedIn](https://ca.linkedin.com/in/tanu-nanda-prabhu-a15a091b5) | [Python Hub](https://github.com/Tanu-N-Prabhu/Python)\n",
        "* [Check out my latest articles on Programming](https://medium.com/@tanunprabhu95)\n",
        "* Check out my [GitHub](https://github.com/Tanu-N-Prabhu) for code and [Medium](https://medium.com/@tanunprabhu95) for deep dives!\n",
        "\n"
      ],
      "metadata": {
        "id": "iCakV40Gwava"
      }
    }
  ]
}