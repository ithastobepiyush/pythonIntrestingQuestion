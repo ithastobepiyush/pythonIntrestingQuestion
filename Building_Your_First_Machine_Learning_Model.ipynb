{
  "nbformat": 4,
  "nbformat_minor": 0,
  "metadata": {
    "colab": {
      "provenance": [],
      "authorship_tag": "ABX9TyPQkbM1IouCRwgPSAqq7OmT",
      "include_colab_link": true
    },
    "kernelspec": {
      "name": "python3",
      "display_name": "Python 3"
    },
    "language_info": {
      "name": "python"
    }
  },
  "cells": [
    {
      "cell_type": "markdown",
      "metadata": {
        "id": "view-in-github",
        "colab_type": "text"
      },
      "source": [
        "<a href=\"https://colab.research.google.com/github/Tanu-N-Prabhu/Python/blob/master/Building_Your_First_Machine_Learning_Model.ipynb\" target=\"_parent\"><img src=\"https://colab.research.google.com/assets/colab-badge.svg\" alt=\"Open In Colab\"/></a>"
      ]
    },
    {
      "cell_type": "markdown",
      "source": [
        "# Building Your First Machine Learning Model with scikit-learn\n",
        "\n",
        "## Understand the essentials of model training and evaluation in Python\n",
        "\n",
        "\n",
        "| ![space-1.jpg](https://github.com/Tanu-N-Prabhu/Python/blob/master/Img/mlmodel!.png?raw=true) |\n",
        "|:--:|\n",
        "| Image Generated Using Canva|\n",
        "\n",
        "### Introduction\n",
        "Machine learning sounds complicated, but getting started with it is easier than you think! Today, you'll build a simple yet powerful machine-learning model using Python’s scikit-learn library. We'll walk through loading data, training a model, making predictions, and evaluating performance in a clean and beginner-friendly way.\n",
        "\n",
        "---\n",
        "\n",
        "### Code Implementation"
      ],
      "metadata": {
        "id": "eC0Qz4bv80Ko"
      }
    },
    {
      "cell_type": "code",
      "source": [
        "# Step 1: Import necessary libraries\n",
        "from sklearn.datasets import load_iris\n",
        "from sklearn.model_selection import train_test_split\n",
        "from sklearn.ensemble import RandomForestClassifier\n",
        "from sklearn.metrics import accuracy_score\n",
        "\n",
        "# Step 2: Load the dataset\n",
        "iris = load_iris()\n",
        "X = iris.data\n",
        "y = iris.target\n",
        "\n",
        "# Step 3: Split the dataset into training and testing sets\n",
        "X_train, X_test, y_train, y_test = train_test_split(X, y, test_size=0.3, random_state=42)\n",
        "\n",
        "# Step 4: Initialize and train the model\n",
        "model = RandomForestClassifier()\n",
        "model.fit(X_train, y_train)\n",
        "\n",
        "# Step 5: Make predictions\n",
        "y_pred = model.predict(X_test)\n",
        "\n",
        "# Step 6: Evaluate the model\n",
        "accuracy = accuracy_score(y_test, y_pred)\n",
        "print(f\"Model Accuracy: {accuracy:.2f}\")"
      ],
      "metadata": {
        "colab": {
          "base_uri": "https://localhost:8080/"
        },
        "id": "MOPJd24H9XDF",
        "outputId": "3858aeed-8240-44fe-8c4e-14f970d397d5"
      },
      "execution_count": 1,
      "outputs": [
        {
          "output_type": "stream",
          "name": "stdout",
          "text": [
            "Model Accuracy: 1.00\n"
          ]
        }
      ]
    },
    {
      "cell_type": "markdown",
      "source": [
        "### What this code does\n",
        "* Loads the famous Iris dataset.\n",
        "* Splits it into training and testing parts.\n",
        "* Trains a Random Forest Classifier.\n",
        "* Evaluates how well the model performs.\n",
        "\n",
        "---\n",
        "\n",
        "### Conclusion\n",
        "You just built your first machine-learning model! This simple project introduces you to real-world workflows like data splitting, model training, and accuracy evaluation. With scikit-learn, machine learning becomes a lot less intimidating and a lot more fun. Keep experimenting with different datasets and models. Thanks for reading my article, let me know if you have any suggestions or similar implementations via the comment section. Until then, see you next time. Happy coding!\n",
        "\n",
        "---\n",
        "\n",
        "#### Before you go\n",
        "* Be sure to Like and Connect Me\n",
        "* Follow Me : [Medium](https://medium.com/@tanunprabhu95) | [GitHub](https://github.com/Tanu-N-Prabhu) | [LinkedIn](https://ca.linkedin.com/in/tanu-nanda-prabhu-a15a091b5) | [Python Hub](https://github.com/Tanu-N-Prabhu/Python)\n",
        "* [Check out my latest articles on Programming](https://medium.com/@tanunprabhu95)\n",
        "* Check out my [GitHub](https://github.com/Tanu-N-Prabhu) for code and [Medium](https://medium.com/@tanunprabhu95) for deep dives!"
      ],
      "metadata": {
        "id": "cTFA0NJr9hAY"
      }
    }
  ]
}