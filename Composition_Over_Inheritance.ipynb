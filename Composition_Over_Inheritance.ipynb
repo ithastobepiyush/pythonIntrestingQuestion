{
  "nbformat": 4,
  "nbformat_minor": 0,
  "metadata": {
    "colab": {
      "provenance": [],
      "authorship_tag": "ABX9TyO4c0h8R65WtLuTMA/y3VFy",
      "include_colab_link": true
    },
    "kernelspec": {
      "name": "python3",
      "display_name": "Python 3"
    },
    "language_info": {
      "name": "python"
    }
  },
  "cells": [
    {
      "cell_type": "markdown",
      "metadata": {
        "id": "view-in-github",
        "colab_type": "text"
      },
      "source": [
        "<a href=\"https://colab.research.google.com/github/Tanu-N-Prabhu/Python/blob/master/Composition_Over_Inheritance.ipynb\" target=\"_parent\"><img src=\"https://colab.research.google.com/assets/colab-badge.svg\" alt=\"Open In Colab\"/></a>"
      ]
    },
    {
      "cell_type": "markdown",
      "source": [
        "# Composition Over Inheritance, A Game-Changer for ML Engineering\n",
        "\n",
        "## Why top ML teams avoid deep class hierarchies and favor modular composition.\n",
        "\n",
        "| ![space-1.jpg](https://github.com/Tanu-N-Prabhu/Python/blob/master/Img/christina-wocintechchat-com-SqmaKDvcIso-unsplash.jpg?raw=true) |\n",
        "|:--:|\n",
        "|Photo by <a href=\"https://unsplash.com/@wocintechchat?utm_content=creditCopyText&utm_medium=referral&utm_source=unsplash\">Christina @ wocintechchat.com</a> on <a href=\"https://unsplash.com/photos/shallow-focus-photo-of-python-book-SqmaKDvcIso?utm_content=creditCopyText&utm_medium=referral&utm_source=unsplash\">Unsplash</a>|\n",
        "\n",
        "\n",
        "### Introduction\n",
        "Many engineers start with inheritance, create a `BaseModel`, then extend it. But as pipelines grow, this quickly becomes fragile and restrictive. That's why production ML systems favor composition assembling classes like building blocks over rigid inheritance chains.\n",
        "\n",
        "---\n",
        "\n",
        "\n",
        "### Problem\n",
        "\n",
        "* Using inheritance for ML systems often leads to:\n",
        "* Deep, tightly coupled hierarchies\n",
        "* Hard-to-maintain and test base classes\n",
        "* Limited flexibility to mix and match behaviors\n",
        "\n",
        "If your logic for training, logging, evaluation, and saving is spread across a hierarchy, even a small change can cause cascading failures.\n",
        "\n",
        "---\n",
        "\n",
        "### Code Example, Inheritance (Not Ideal)\n",
        "\n",
        "\n",
        "\n",
        "\n",
        "\n",
        "\n",
        "\n",
        "\n"
      ],
      "metadata": {
        "id": "3qgElBvKOJ41"
      }
    },
    {
      "cell_type": "code",
      "source": [
        "class BaseModel:\n",
        "    def train(self, X, y):\n",
        "        print(\"Training...\")\n",
        "\n",
        "class AdvancedModel(BaseModel):\n",
        "    def train(self, X, y):\n",
        "        super().train(X, y)\n",
        "        print(\"Logging metrics...\")"
      ],
      "metadata": {
        "id": "SSH9v6t7PCer"
      },
      "execution_count": null,
      "outputs": []
    },
    {
      "cell_type": "markdown",
      "source": [
        "> Here, AdvancedModel is tied to BaseModel. You can’t use logging elsewhere without duplicating logic.\n",
        "\n",
        "---\n",
        "\n",
        "### Code Example, Composition (Better)"
      ],
      "metadata": {
        "id": "0OuA2HbMPFkj"
      }
    },
    {
      "cell_type": "code",
      "source": [
        "class Trainer:\n",
        "    def __init__(self, model):\n",
        "        self.model = model\n",
        "\n",
        "    def train(self, X, y):\n",
        "        self.model.train(X, y)\n",
        "\n",
        "class Logger:\n",
        "    def log(self, message):\n",
        "        print(f\"[LOG]: {message}\")\n",
        "\n",
        "class Evaluator:\n",
        "    def evaluate(self, model, X, y):\n",
        "        acc = model.evaluate(X, y)\n",
        "        print(f\"Accuracy: {acc}\")"
      ],
      "metadata": {
        "id": "A09_7oLdPKjr"
      },
      "execution_count": null,
      "outputs": []
    },
    {
      "cell_type": "code",
      "source": [
        "# Compose them together\n",
        "trainer = Trainer(model=MyModel())\n",
        "trainer.train(X, y)"
      ],
      "metadata": {
        "id": "kpWM4-wqPOSa"
      },
      "execution_count": null,
      "outputs": []
    },
    {
      "cell_type": "markdown",
      "source": [
        "### Output\n",
        "\n",
        "Training...\n",
        "\n",
        "Accuracy: 0.94\n",
        "\n",
        "[LOG]: Training completed\n",
        "\n",
        "---\n",
        "\n",
        "### Code Explanation:\n",
        "\n",
        "* Trainer, Logger, and Evaluator are independent classes\n",
        "\n",
        "* You can test or replace them individually\n",
        "\n",
        "* No deep inheritance, just plug and play\n",
        "\n",
        "* Encourages clean interfaces and reusability\n",
        "\n",
        "\n",
        "---\n",
        "\n",
        "### Why It’s So Important\n",
        "* Composition is flexible, perfect for swapping ML components\n",
        "\n",
        "* Easier to debug, test, and scale\n",
        "\n",
        "* Widely used in frameworks like PyTorch Lightning, scikit-learn pipelines, and Airflow DAGs (directed acyclic graph)\n",
        "\n",
        "---\n",
        "\n",
        "### Applications\n",
        "* Custom training loops\n",
        "\n",
        "* MLOps tooling\n",
        "\n",
        "* Modular AutoML workflows\n",
        "\n",
        "* Model deployment orchestration\n",
        "\n",
        "---\n",
        "\n",
        "### Conclusion\n",
        "Composition over inheritance is not just a design preference, it’s a survival tactic in production ML. If you want your AI codebase to scale, maintain, and evolve. Start composing, not subclassing. Adopt these patterns early, and your ML projects will scale with confidence. Thanks for reading my article, let me know if you have any suggestions or similar implementations via the comment section. Until then, see you next time. Happy coding!\n",
        "\n",
        "---\n",
        "\n",
        "### Before you go\n",
        "* Be sure to Like and Connect Me\n",
        "* Follow Me : [Medium](https://medium.com/@tanunprabhu95) | [GitHub](https://github.com/Tanu-N-Prabhu) | [LinkedIn](https://ca.linkedin.com/in/tanu-nanda-prabhu-a15a091b5) | [Python Hub](https://github.com/Tanu-N-Prabhu/Python)\n",
        "* [Check out my latest articles on Programming](https://medium.com/@tanunprabhu95)\n",
        "* Check out my [GitHub](https://github.com/Tanu-N-Prabhu) for code and [Medium](https://medium.com/@tanunprabhu95) for deep dives!\n",
        "\n",
        "\n",
        "\n"
      ],
      "metadata": {
        "id": "abeSHOo_PMMF"
      }
    }
  ]
}